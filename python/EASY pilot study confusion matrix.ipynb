{
 "cells": [
  {
   "cell_type": "markdown",
   "metadata": {},
   "source": [
    "# EASY pilot study: Confusion Matrix\n",
    "This notebook demonstrates how the mask images downloaded for\n",
    "one annotation study are being processed using both the\n",
    "[Dice coefficient](https://en.wikipedia.org/wiki/S%C3%B8rensen%E2%80%93Dice_coefficient)\n",
    "(see particularly Applications section), as well as a\n",
    "cross-correlation measure operating on the smoothed masks."
   ]
  },
  {
   "cell_type": "code",
   "execution_count": 7,
   "metadata": {},
   "outputs": [],
   "source": [
    "# settings\n",
    "annotationsFolder = 'Annotations'\n",
    "studyName = 'EasyPilot'"
   ]
  },
  {
   "cell_type": "code",
   "execution_count": 8,
   "metadata": {},
   "outputs": [],
   "source": [
    "# imports, etc.\n",
    "import glob\n",
    "import os\n",
    "import pandas as pd\n",
    "import re"
   ]
  },
  {
   "cell_type": "code",
   "execution_count": 29,
   "metadata": {},
   "outputs": [
    {
     "name": "stdout",
     "output_type": "stream",
     "text": [
      "A total of 1925 images were found for study EasyPilot:\n",
      " - a total of 140 ISIC images were annotated\n",
      " - by 5 annotators\n",
      " - using 80 features\n"
     ]
    }
   ],
   "source": [
    "# find annotation mask images\n",
    "annotationImages = glob.glob('./%s/%s_*.png' % (annotationsFolder, studyName))\n",
    "print('A total of %s images were found for study %s:' % (len(annotationImages), studyName))\n",
    "\n",
    "# and determine the (unique) images, annotators, and features\n",
    "imageNr = []\n",
    "imageSet = set()\n",
    "annotator = []\n",
    "annotatorSet = set()\n",
    "feature = []\n",
    "featureSet = set()\n",
    "reXPattern = re.compile(r'^.*' + studyName + r'_ISIC_(\\d+)_([^_]+)_([^_]+)\\.png$')\n",
    "for imageFilename in annotationImages:\n",
    "    reSearch = reXPattern.search(imageFilename)\n",
    "    if reSearch:\n",
    "        reGroups = reSearch.groups()\n",
    "        imageNr.append(reGroups[0])\n",
    "        if not reGroups[0] in imageSet:\n",
    "            imageSet.add(reGroups[0])\n",
    "        annotator.append(reGroups[1])\n",
    "        if not reGroups[1] in annotatorSet:\n",
    "            annotatorSet.add(reGroups[1])\n",
    "        feature.append(reGroups[2])\n",
    "        if not reGroups[2] in featureSet:\n",
    "            featureSet.add(reGroups[2])\n",
    "    else:\n",
    "        imageNr.append('')\n",
    "        annotator.append('')\n",
    "        feature.append('')\n",
    "print(' - a total of %s ISIC images were annotated' % (len(imageSet)))\n",
    "print(' - by %s annotators' % (len(annotatorSet)))\n",
    "print(' - using %s features' % (len(featureSet)))\n",
    "annotDF = pd.DataFrame.from_dict({'imageNr': imageNr, 'annotator': annotator, 'feature': feature})"
   ]
  },
  {
   "cell_type": "code",
   "execution_count": null,
   "metadata": {},
   "outputs": [],
   "source": []
  }
 ],
 "metadata": {
  "kernelspec": {
   "display_name": "Python 3",
   "language": "python",
   "name": "python3"
  },
  "language_info": {
   "codemirror_mode": {
    "name": "ipython",
    "version": 3
   },
   "file_extension": ".py",
   "mimetype": "text/x-python",
   "name": "python",
   "nbconvert_exporter": "python",
   "pygments_lexer": "ipython3",
   "version": "3.7.3"
  }
 },
 "nbformat": 4,
 "nbformat_minor": 2
}
