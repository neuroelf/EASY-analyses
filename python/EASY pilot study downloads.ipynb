{
 "cells": [
  {
   "cell_type": "markdown",
   "metadata": {},
   "source": [
    "# EASY pilot study downloads\n",
    "This notebook can be used to download the data associated with the\n",
    "\"EASY Study - 75 Image, full featureset\" study on the ISIC archive\n",
    "available here:\n",
    "\n",
    "https://isic-archive.com/api/v1/#!/study/study_find\n",
    "\n",
    "And from there we can see that this study has the (mongodb Object)\n",
    "ID \"58d9189ad831133741859b5d\", with which we can access all the\n",
    "data associated with that study.\n",
    "\n",
    "## Notes on the ISIC API\n",
    "Here's a few important notes related to the ISIC API:\n",
    "\n",
    "- whenever you are logging in using a web browser, make sure the\n",
    "  login is performed on the actual https://isic-archive.com/\n",
    "  domain, not the www.isic-archive.com domain, since they do not\n",
    "  share cookies/headers, meaning that a login at the www. website\n",
    "  will not carry over! To do so, visit https://isic-archive.com/admin\n",
    "- when accessing annotation images (masks) or superpixel arrays,\n",
    "  the feature must be given as a URL mangled name, not as on the\n",
    "  API documentation specified (featureId)"
   ]
  },
  {
   "cell_type": "code",
   "execution_count": 2,
   "metadata": {},
   "outputs": [
    {
     "name": "stdout",
     "output_type": "stream",
     "text": [
      "Please enter the password for user weberj3@mskcc.org: ········\n"
     ]
    }
   ],
   "source": [
    "# username (leave at None if you don't have one)\n",
    "# username = None\n",
    "import getpass\n",
    "username = 'weberj3@mskcc.org'\n",
    "password = None # do NOT enter here, will be requested via getpass!\n",
    "if not username is None:\n",
    "    password = getpass.getpass('Please enter the password for user %s: ' % (username))\n",
    "\n",
    "# ObjectID for the \"EASY Study - 75 Image, full featureset\" study\n",
    "studyId = '5a32cde91165975cf58a469c'\n",
    "studyName = 'EasyPilot'\n",
    "\n",
    "# settings\n",
    "ImageFolder = 'ISICImages'\n",
    "AnnotationFolder = 'Annotations'\n",
    "\n",
    "# imports\n",
    "import os\n",
    "from ISICApi import ISICApi\n",
    "\n",
    "# get ISIC API reference\n",
    "api = ISICApi(None, username, password)"
   ]
  },
  {
   "cell_type": "code",
   "execution_count": 3,
   "metadata": {},
   "outputs": [],
   "source": [
    "# make folders if necessary\n",
    "if not os.path.exists(ImageFolder):\n",
    "    os.mkdir(ImageFolder)\n",
    "if not os.path.exists(AnnotationFolder):\n",
    "    os.mkdir(AnnotationFolder)"
   ]
  },
  {
   "cell_type": "code",
   "execution_count": 4,
   "metadata": {},
   "outputs": [],
   "source": [
    "# function for mangling feature names\n",
    "featureIds = {}\n",
    "def featureId(feature):\n",
    "    if feature in featureIds:\n",
    "        return featureIds[feature]\n",
    "    letters = [letter if ord(letter) > 64 and ord(letter) < 123 else '%s%02x' % ('%', ord(letter)) for letter in feature]\n",
    "    idVal = ''.join(letters)\n",
    "    featureIds[feature] = idVal\n",
    "    return idVal\n",
    "featureNames = {}\n",
    "def featureName(feature):\n",
    "    if feature in featureNames:\n",
    "        return featureNames[feature]\n",
    "    letters = [letter for letter in feature if ord(letter) > 64 and ord(letter) < 123]\n",
    "    nameVal = ''.join(letters)\n",
    "    featureNames[feature] = nameVal\n",
    "    return nameVal"
   ]
  },
  {
   "cell_type": "code",
   "execution_count": 5,
   "metadata": {},
   "outputs": [
    {
     "name": "stdout",
     "output_type": "stream",
     "text": [
      "Study \"ISIC Annotation Study - All Features\" has 5 annotators with at least 140 images.\n"
     ]
    }
   ],
   "source": [
    "# get study information\n",
    "studyInfo = api.getJson('study/%s' % (studyId))\n",
    "studyFeatures = studyInfo['features']\n",
    "studyImage = studyInfo['images']\n",
    "studyComplete = studyInfo['userCompletion']\n",
    "\n",
    "# and users with at least 75 images annotated\n",
    "studyUsers = list(filter(lambda user: studyComplete[user['_id']] >= 140, studyInfo['users']))\n",
    "print('Study \"%s\" has %s annotators with at least 140 images.' % (studyInfo['name'], len(studyUsers)))"
   ]
  },
  {
   "cell_type": "code",
   "execution_count": 6,
   "metadata": {},
   "outputs": [],
   "source": [
    "# download ISIC images (if not already in folder)\n",
    "imageIds = []\n",
    "for ic in range(len(studyImage)):\n",
    "    imageIds.append(studyImage[ic]['_id'])\n",
    "    localFile = '%s/%s.jpg' % (ImageFolder, studyImage[ic]['name'])\n",
    "    if not os.path.exists(localFile):\n",
    "        print('Downloading %s...' % (studyImage[ic]['name']))\n",
    "        api.getFile('image/%s/download' % (studyImage[ic]['_id']), localFile)"
   ]
  },
  {
   "cell_type": "code",
   "execution_count": 7,
   "metadata": {},
   "outputs": [
    {
     "name": "stdout",
     "output_type": "stream",
     "text": [
      "Downloading annotations for user K Liopyris...\n",
      "Downloading annotations for user Ashfaq Marghoob...\n",
      "Downloading annotations for user C Navarrete...\n",
      "Downloading annotations for user David Swanson...\n",
      "Downloading annotations for user Ayelet Rishpon...\n"
     ]
    }
   ],
   "source": [
    "# download annotations\n",
    "for user in studyUsers:\n",
    "    print('Downloading annotations for user %s %s...' % (user['firstName'], user['lastName']))\n",
    "    userId = user['_id']\n",
    "    userName = user['lastName']\n",
    "    annotations = api.getJsonList('annotation?studyId=%s&userId=%s&state=complete&detail=true' % (studyId, userId))\n",
    "    for annotation in annotations:\n",
    "        annotationId = annotation['_id']\n",
    "        imageName = annotation['image']['name']\n",
    "        for markup in annotation['markups'].keys():\n",
    "            fId = featureId(markup)\n",
    "            fName = featureName(markup)\n",
    "            localFile = '%s/%s_%s_%s_%s.png' % (AnnotationFolder, studyName, imageName, userName, fName)\n",
    "            if not os.path.exists(localFile):\n",
    "                api.getFile('annotation/%s/%s/mask' % (annotationId, fId), localFile)"
   ]
  }
 ],
 "metadata": {
  "kernelspec": {
   "display_name": "Python 3",
   "language": "python",
   "name": "python3"
  },
  "language_info": {
   "codemirror_mode": {
    "name": "ipython",
    "version": 3
   },
   "file_extension": ".py",
   "mimetype": "text/x-python",
   "name": "python",
   "nbconvert_exporter": "python",
   "pygments_lexer": "ipython3",
   "version": "3.7.3"
  }
 },
 "nbformat": 4,
 "nbformat_minor": 2
}
